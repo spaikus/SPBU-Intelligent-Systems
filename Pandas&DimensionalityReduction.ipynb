{
 "cells": [
  {
   "cell_type": "code",
   "execution_count": 1,
   "id": "9cc259d8",
   "metadata": {},
   "outputs": [],
   "source": [
    "import pandas as pd\n",
    "import matplotlib.pyplot as plt"
   ]
  },
  {
   "cell_type": "markdown",
   "id": "984f836d",
   "metadata": {},
   "source": [
    "#### Загрузить данные в pandas по url=https://raw.githubusercontent.com/justmarkham/DAT8/master/data/chipotle.tsv"
   ]
  },
  {
   "cell_type": "code",
   "execution_count": 2,
   "metadata": {},
   "outputs": [],
   "source": [
    "url = 'https://raw.githubusercontent.com/justmarkham/DAT8/master/data/chipotle.tsv'\n",
    "dataframe = pd.read_csv(url, sep='\\t')"
   ]
  },
  {
   "cell_type": "code",
   "execution_count": 3,
   "id": "e41d334c",
   "metadata": {},
   "outputs": [
    {
     "data": {
      "text/html": [
       "<div>\n",
       "<style scoped>\n",
       "    .dataframe tbody tr th:only-of-type {\n",
       "        vertical-align: middle;\n",
       "    }\n",
       "\n",
       "    .dataframe tbody tr th {\n",
       "        vertical-align: top;\n",
       "    }\n",
       "\n",
       "    .dataframe thead th {\n",
       "        text-align: right;\n",
       "    }\n",
       "</style>\n",
       "<table border=\"1\" class=\"dataframe\">\n",
       "  <thead>\n",
       "    <tr style=\"text-align: right;\">\n",
       "      <th></th>\n",
       "      <th>order_id</th>\n",
       "      <th>quantity</th>\n",
       "      <th>item_name</th>\n",
       "      <th>choice_description</th>\n",
       "      <th>item_price</th>\n",
       "    </tr>\n",
       "  </thead>\n",
       "  <tbody>\n",
       "    <tr>\n",
       "      <th>0</th>\n",
       "      <td>1</td>\n",
       "      <td>1</td>\n",
       "      <td>Chips and Fresh Tomato Salsa</td>\n",
       "      <td>NaN</td>\n",
       "      <td>$2.39</td>\n",
       "    </tr>\n",
       "    <tr>\n",
       "      <th>1</th>\n",
       "      <td>1</td>\n",
       "      <td>1</td>\n",
       "      <td>Izze</td>\n",
       "      <td>[Clementine]</td>\n",
       "      <td>$3.39</td>\n",
       "    </tr>\n",
       "    <tr>\n",
       "      <th>2</th>\n",
       "      <td>1</td>\n",
       "      <td>1</td>\n",
       "      <td>Nantucket Nectar</td>\n",
       "      <td>[Apple]</td>\n",
       "      <td>$3.39</td>\n",
       "    </tr>\n",
       "    <tr>\n",
       "      <th>3</th>\n",
       "      <td>1</td>\n",
       "      <td>1</td>\n",
       "      <td>Chips and Tomatillo-Green Chili Salsa</td>\n",
       "      <td>NaN</td>\n",
       "      <td>$2.39</td>\n",
       "    </tr>\n",
       "    <tr>\n",
       "      <th>4</th>\n",
       "      <td>2</td>\n",
       "      <td>2</td>\n",
       "      <td>Chicken Bowl</td>\n",
       "      <td>[Tomatillo-Red Chili Salsa (Hot), [Black Beans...</td>\n",
       "      <td>$16.98</td>\n",
       "    </tr>\n",
       "  </tbody>\n",
       "</table>\n",
       "</div>"
      ],
      "text/plain": [
       "   order_id  quantity                              item_name  \\\n",
       "0         1         1           Chips and Fresh Tomato Salsa   \n",
       "1         1         1                                   Izze   \n",
       "2         1         1                       Nantucket Nectar   \n",
       "3         1         1  Chips and Tomatillo-Green Chili Salsa   \n",
       "4         2         2                           Chicken Bowl   \n",
       "\n",
       "                                  choice_description item_price  \n",
       "0                                                NaN     $2.39   \n",
       "1                                       [Clementine]     $3.39   \n",
       "2                                            [Apple]     $3.39   \n",
       "3                                                NaN     $2.39   \n",
       "4  [Tomatillo-Red Chili Salsa (Hot), [Black Beans...    $16.98   "
      ]
     },
     "execution_count": 3,
     "metadata": {},
     "output_type": "execute_result"
    }
   ],
   "source": [
    "dataframe.head()"
   ]
  },
  {
   "cell_type": "markdown",
   "id": "d242b5df",
   "metadata": {},
   "source": [
    "#### 1. Вывести: кол-во наблюдений в датасете"
   ]
  },
  {
   "cell_type": "code",
   "execution_count": 4,
   "id": "a30f3080",
   "metadata": {},
   "outputs": [
    {
     "data": {
      "text/plain": [
       "4622"
      ]
     },
     "execution_count": 4,
     "metadata": {},
     "output_type": "execute_result"
    }
   ],
   "source": [
    "dataframe.shape[0]"
   ]
  },
  {
   "cell_type": "markdown",
   "id": "b9b0b19c",
   "metadata": {},
   "source": [
    "#### 2. Вывести названия столбцов"
   ]
  },
  {
   "cell_type": "code",
   "execution_count": 5,
   "id": "06d155f4",
   "metadata": {},
   "outputs": [
    {
     "data": {
      "text/plain": [
       "['order_id', 'quantity', 'item_name', 'choice_description', 'item_price']"
      ]
     },
     "execution_count": 5,
     "metadata": {},
     "output_type": "execute_result"
    }
   ],
   "source": [
    "list(dataframe.columns)"
   ]
  },
  {
   "cell_type": "markdown",
   "id": "7e957bd4",
   "metadata": {},
   "source": [
    "#### 3. Определить самую частую позицию (item) в заказе "
   ]
  },
  {
   "cell_type": "code",
   "execution_count": 6,
   "id": "bcd4abe5",
   "metadata": {},
   "outputs": [
    {
     "data": {
      "text/plain": [
       "'Chicken Bowl'"
      ]
     },
     "execution_count": 6,
     "metadata": {},
     "output_type": "execute_result"
    }
   ],
   "source": [
    "dataframe['item_name'].mode()[0]"
   ]
  },
  {
   "cell_type": "markdown",
   "id": "73181dc7",
   "metadata": {},
   "source": [
    "#### 4. Построить гистрограмму частоты заказов по позициям (item)"
   ]
  },
  {
   "cell_type": "code",
   "execution_count": 7,
   "id": "46fc380f",
   "metadata": {},
   "outputs": [
    {
     "data": {
      "image/png": "[encoded data removed]",
      "text/plain": [
       "<Figure size 720x720 with 1 Axes>"
      ]
     },
     "metadata": {
      "needs_background": "light"
     },
     "output_type": "display_data"
    }
   ],
   "source": [
    "dataframe.groupby('item_name').size().plot(kind='barh', figsize=(10,10))\n",
    "plt.show()"
   ]
  },
  {
   "cell_type": "markdown",
   "id": "feae7427",
   "metadata": {},
   "source": [
    "#### 5. Измените тип переменной item_price c с помощью лямбды функции"
   ]
  },
  {
   "cell_type": "code",
   "execution_count": 8,
   "id": "3b0df04d",
   "metadata": {},
   "outputs": [
    {
     "data": {
      "text/html": [
       "<div>\n",
       "<style scoped>\n",
       "    .dataframe tbody tr th:only-of-type {\n",
       "        vertical-align: middle;\n",
       "    }\n",
       "\n",
       "    .dataframe tbody tr th {\n",
       "        vertical-align: top;\n",
       "    }\n",
       "\n",
       "    .dataframe thead th {\n",
       "        text-align: right;\n",
       "    }\n",
       "</style>\n",
       "<table border=\"1\" class=\"dataframe\">\n",
       "  <thead>\n",
       "    <tr style=\"text-align: right;\">\n",
       "      <th></th>\n",
       "      <th>order_id</th>\n",
       "      <th>quantity</th>\n",
       "      <th>item_name</th>\n",
       "      <th>choice_description</th>\n",
       "      <th>item_price</th>\n",
       "    </tr>\n",
       "  </thead>\n",
       "  <tbody>\n",
       "    <tr>\n",
       "      <th>0</th>\n",
       "      <td>1</td>\n",
       "      <td>1</td>\n",
       "      <td>Chips and Fresh Tomato Salsa</td>\n",
       "      <td>NaN</td>\n",
       "      <td>2.39</td>\n",
       "    </tr>\n",
       "    <tr>\n",
       "      <th>1</th>\n",
       "      <td>1</td>\n",
       "      <td>1</td>\n",
       "      <td>Izze</td>\n",
       "      <td>[Clementine]</td>\n",
       "      <td>3.39</td>\n",
       "    </tr>\n",
       "    <tr>\n",
       "      <th>2</th>\n",
       "      <td>1</td>\n",
       "      <td>1</td>\n",
       "      <td>Nantucket Nectar</td>\n",
       "      <td>[Apple]</td>\n",
       "      <td>3.39</td>\n",
       "    </tr>\n",
       "    <tr>\n",
       "      <th>3</th>\n",
       "      <td>1</td>\n",
       "      <td>1</td>\n",
       "      <td>Chips and Tomatillo-Green Chili Salsa</td>\n",
       "      <td>NaN</td>\n",
       "      <td>2.39</td>\n",
       "    </tr>\n",
       "    <tr>\n",
       "      <th>4</th>\n",
       "      <td>2</td>\n",
       "      <td>2</td>\n",
       "      <td>Chicken Bowl</td>\n",
       "      <td>[Tomatillo-Red Chili Salsa (Hot), [Black Beans...</td>\n",
       "      <td>16.98</td>\n",
       "    </tr>\n",
       "  </tbody>\n",
       "</table>\n",
       "</div>"
      ],
      "text/plain": [
       "   order_id  quantity                              item_name  \\\n",
       "0         1         1           Chips and Fresh Tomato Salsa   \n",
       "1         1         1                                   Izze   \n",
       "2         1         1                       Nantucket Nectar   \n",
       "3         1         1  Chips and Tomatillo-Green Chili Salsa   \n",
       "4         2         2                           Chicken Bowl   \n",
       "\n",
       "                                  choice_description  item_price  \n",
       "0                                                NaN        2.39  \n",
       "1                                       [Clementine]        3.39  \n",
       "2                                            [Apple]        3.39  \n",
       "3                                                NaN        2.39  \n",
       "4  [Tomatillo-Red Chili Salsa (Hot), [Black Beans...       16.98  "
      ]
     },
     "execution_count": 8,
     "metadata": {},
     "output_type": "execute_result"
    }
   ],
   "source": [
    "dataframe['item_price'] = dataframe['item_price'].apply(lambda x: float(x[1:]))\n",
    "dataframe.head()"
   ]
  },
  {
   "cell_type": "markdown",
   "id": "69a3a252",
   "metadata": {},
   "source": [
    "#### 6. Построить гистограмму кол-во денег заработанных по каждой позиции (item)"
   ]
  },
  {
   "cell_type": "code",
   "execution_count": 9,
   "id": "e5f4d571",
   "metadata": {},
   "outputs": [
    {
     "data": {
      "image/png": "[encoded data removed]",
      "text/plain": [
       "<Figure size 720x720 with 1 Axes>"
      ]
     },
     "metadata": {
      "needs_background": "light"
     },
     "output_type": "display_data"
    }
   ],
   "source": [
    "dataframe.groupby('item_name')['item_price'].sum().plot(kind='barh', figsize=(10,10))\n",
    "plt.show()\n",
    "\n",
    "# pd.concat([dataframe['item_name'], dataframe['item_price']], axis=1).groupby('item_name').sum().plot(kind='barh', figsize=(10,10))\n",
    "\n",
    "# {key: (dataframe['item_price'])[value].sum() \n",
    "#     for key, value in dataframe.groupby('item_name').indices.items()}"
   ]
  },
  {
   "cell_type": "markdown",
   "id": "8e6f22fb",
   "metadata": {},
   "source": [
    "#### 7. Средняя сумма заказа? (минимум 2 способа)"
   ]
  },
  {
   "cell_type": "code",
   "execution_count": 10,
   "id": "bb9dbae1",
   "metadata": {},
   "outputs": [
    {
     "name": "stdout",
     "output_type": "stream",
     "text": [
      "18.811428571428568\n",
      "18.811428571428575\n"
     ]
    }
   ],
   "source": [
    "print(dataframe.groupby('order_id')['item_price'].sum().mean())\n",
    "print(dataframe['item_price'].sum() / dataframe.groupby('order_id').ngroups)"
   ]
  },
  {
   "cell_type": "markdown",
   "id": "e07e545c",
   "metadata": {},
   "source": [
    "#### 8. Выведите среднее, минимальное и максимальное, медианное значения позиций в заказе"
   ]
  },
  {
   "cell_type": "code",
   "execution_count": 11,
   "id": "ac7dab83",
   "metadata": {},
   "outputs": [
    {
     "name": "stdout",
     "output_type": "stream",
     "text": [
      "2.520174482006543\n",
      "1\n",
      "23\n",
      "2.0\n"
     ]
    }
   ],
   "source": [
    "print(dataframe.groupby('order_id').size().mean())\n",
    "print(dataframe.groupby('order_id').size().min())\n",
    "print(dataframe.groupby('order_id').size().max())\n",
    "print(dataframe.groupby('order_id').size().median())"
   ]
  },
  {
   "cell_type": "markdown",
   "id": "ff92e581",
   "metadata": {},
   "source": [
    "#### 9. Определить статистику заказов стейков, а также статистику заказов прожарки."
   ]
  },
  {
   "cell_type": "code",
   "execution_count": 12,
   "id": "93cb89b9",
   "metadata": {},
   "outputs": [
    {
     "data": {
      "image/png": "[encoded data removed]",
      "text/plain": [
       "<Figure size 360x360 with 1 Axes>"
      ]
     },
     "metadata": {
      "needs_background": "light"
     },
     "output_type": "display_data"
    }
   ],
   "source": [
    "dataframe[dataframe['item_name'].str.contains('steak', case=False)].groupby('item_name').size().plot(kind='barh', figsize=(5,5))\n",
    "plt.show()"
   ]
  },
  {
   "cell_type": "code",
   "execution_count": 13,
   "id": "c6298aec",
   "metadata": {},
   "outputs": [],
   "source": [
    "flavors = {\n",
    "    'Mild': '^(?=.*mild)(?!.*medium)(?!.*hot)',\n",
    "    'Medium': '^(?!.*mild)(?=.*medium)(?!.*hot)',\n",
    "    'Hot': '^(?!.*mild)(?!.*medium)(?=.*hot)',\n",
    "    'Mild&Medium':'^(?=.*mild)(?=.*medium)(?!.*hot)',\n",
    "    'Mild&Hot':'^(?=.*mild)(?!.*medium)(?=.*hot)',\n",
    "    'Medium&Hot':'^(?!.*mild)(?=.*medium)(?=.*hot)',\n",
    "    'Mild&Medium&Hot':'^(?=.*mild)(?=.*medium)(?=.*hot)',\n",
    "}"
   ]
  },
  {
   "cell_type": "code",
   "execution_count": 14,
   "id": "c6943f38",
   "metadata": {},
   "outputs": [
    {
     "data": {
      "image/png": "[encoded data removed]",
      "text/plain": [
       "<Figure size 360x360 with 1 Axes>"
      ]
     },
     "metadata": {
      "needs_background": "light"
     },
     "output_type": "display_data"
    }
   ],
   "source": [
    "flavor_categories = []\n",
    "for name, regex_str in flavors.items():\n",
    "    flavor_categories.append([name, dataframe['choice_description'].str.contains(regex_str, case=False, regex=True).sum()])\n",
    "flavor_categories = pd.DataFrame(data=flavor_categories, columns=['flavor', 'cnt'])\n",
    "flavor_categories.plot(kind='barh', figsize=(5,5), x='flavor')\n",
    "plt.show()"
   ]
  },
  {
   "cell_type": "markdown",
   "id": "5bd0589c",
   "metadata": {},
   "source": [
    "#### 10. Добавить новый столбец цен на каждую позицию в заказе в рублях."
   ]
  },
  {
   "cell_type": "code",
   "execution_count": 15,
   "id": "62d7becf",
   "metadata": {},
   "outputs": [
    {
     "data": {
      "text/html": [
       "<div>\n",
       "<style scoped>\n",
       "    .dataframe tbody tr th:only-of-type {\n",
       "        vertical-align: middle;\n",
       "    }\n",
       "\n",
       "    .dataframe tbody tr th {\n",
       "        vertical-align: top;\n",
       "    }\n",
       "\n",
       "    .dataframe thead th {\n",
       "        text-align: right;\n",
       "    }\n",
       "</style>\n",
       "<table border=\"1\" class=\"dataframe\">\n",
       "  <thead>\n",
       "    <tr style=\"text-align: right;\">\n",
       "      <th></th>\n",
       "      <th>order_id</th>\n",
       "      <th>quantity</th>\n",
       "      <th>item_name</th>\n",
       "      <th>choice_description</th>\n",
       "      <th>item_price</th>\n",
       "      <th>item_price_rub</th>\n",
       "    </tr>\n",
       "  </thead>\n",
       "  <tbody>\n",
       "    <tr>\n",
       "      <th>0</th>\n",
       "      <td>1</td>\n",
       "      <td>1</td>\n",
       "      <td>Chips and Fresh Tomato Salsa</td>\n",
       "      <td>NaN</td>\n",
       "      <td>2.39</td>\n",
       "      <td>174.231</td>\n",
       "    </tr>\n",
       "    <tr>\n",
       "      <th>1</th>\n",
       "      <td>1</td>\n",
       "      <td>1</td>\n",
       "      <td>Izze</td>\n",
       "      <td>[Clementine]</td>\n",
       "      <td>3.39</td>\n",
       "      <td>247.131</td>\n",
       "    </tr>\n",
       "    <tr>\n",
       "      <th>2</th>\n",
       "      <td>1</td>\n",
       "      <td>1</td>\n",
       "      <td>Nantucket Nectar</td>\n",
       "      <td>[Apple]</td>\n",
       "      <td>3.39</td>\n",
       "      <td>247.131</td>\n",
       "    </tr>\n",
       "    <tr>\n",
       "      <th>3</th>\n",
       "      <td>1</td>\n",
       "      <td>1</td>\n",
       "      <td>Chips and Tomatillo-Green Chili Salsa</td>\n",
       "      <td>NaN</td>\n",
       "      <td>2.39</td>\n",
       "      <td>174.231</td>\n",
       "    </tr>\n",
       "    <tr>\n",
       "      <th>4</th>\n",
       "      <td>2</td>\n",
       "      <td>2</td>\n",
       "      <td>Chicken Bowl</td>\n",
       "      <td>[Tomatillo-Red Chili Salsa (Hot), [Black Beans...</td>\n",
       "      <td>16.98</td>\n",
       "      <td>1237.842</td>\n",
       "    </tr>\n",
       "  </tbody>\n",
       "</table>\n",
       "</div>"
      ],
      "text/plain": [
       "   order_id  quantity                              item_name  \\\n",
       "0         1         1           Chips and Fresh Tomato Salsa   \n",
       "1         1         1                                   Izze   \n",
       "2         1         1                       Nantucket Nectar   \n",
       "3         1         1  Chips and Tomatillo-Green Chili Salsa   \n",
       "4         2         2                           Chicken Bowl   \n",
       "\n",
       "                                  choice_description  item_price  \\\n",
       "0                                                NaN        2.39   \n",
       "1                                       [Clementine]        3.39   \n",
       "2                                            [Apple]        3.39   \n",
       "3                                                NaN        2.39   \n",
       "4  [Tomatillo-Red Chili Salsa (Hot), [Black Beans...       16.98   \n",
       "\n",
       "   item_price_rub  \n",
       "0         174.231  \n",
       "1         247.131  \n",
       "2         247.131  \n",
       "3         174.231  \n",
       "4        1237.842  "
      ]
     },
     "execution_count": 15,
     "metadata": {},
     "output_type": "execute_result"
    }
   ],
   "source": [
    "# не знаю открытого апи для получения текущего курса валют, поэтому хардкод (14.11.2021 01:38)\n",
    "usd_to_rub = 72.9\n",
    "\n",
    "dataframe['item_price_rub'] = dataframe['item_price'].apply(lambda x: x * usd_to_rub)\n",
    "dataframe.head()"
   ]
  },
  {
   "cell_type": "markdown",
   "id": "9ea62096",
   "metadata": {},
   "source": [
    "#### 11. Сгруппировать заказы по входящим позициям в него. Отдельно сгруппировать по стейкам во всех видах прожарках."
   ]
  },
  {
   "cell_type": "code",
   "execution_count": 16,
   "id": "bd209034",
   "metadata": {},
   "outputs": [
    {
     "data": {
      "text/html": [
       "<div>\n",
       "<style scoped>\n",
       "    .dataframe tbody tr th:only-of-type {\n",
       "        vertical-align: middle;\n",
       "    }\n",
       "\n",
       "    .dataframe tbody tr th {\n",
       "        vertical-align: top;\n",
       "    }\n",
       "\n",
       "    .dataframe thead th {\n",
       "        text-align: right;\n",
       "    }\n",
       "</style>\n",
       "<table border=\"1\" class=\"dataframe\">\n",
       "  <thead>\n",
       "    <tr style=\"text-align: right;\">\n",
       "      <th></th>\n",
       "      <th>order_id</th>\n",
       "    </tr>\n",
       "    <tr>\n",
       "      <th>items</th>\n",
       "      <th></th>\n",
       "    </tr>\n",
       "  </thead>\n",
       "  <tbody>\n",
       "    <tr>\n",
       "      <th>6 Pack Soft Drink, Carnitas Bowl</th>\n",
       "      <td>[566, 566, 774, 774]</td>\n",
       "    </tr>\n",
       "    <tr>\n",
       "      <th>6 Pack Soft Drink, Chicken Bowl</th>\n",
       "      <td>[298, 298]</td>\n",
       "    </tr>\n",
       "    <tr>\n",
       "      <th>6 Pack Soft Drink, Chicken Burrito, Chicken Soft Tacos, Chicken Burrito, Chicken Soft Tacos, Chicken Crispy Tacos</th>\n",
       "      <td>[1454, 1454, 1454, 1454, 1454, 1454]</td>\n",
       "    </tr>\n",
       "    <tr>\n",
       "      <th>6 Pack Soft Drink, Chicken Burrito, Chips and Guacamole</th>\n",
       "      <td>[1800, 1800, 1800]</td>\n",
       "    </tr>\n",
       "    <tr>\n",
       "      <th>6 Pack Soft Drink, Chicken Salad Bowl, Chips and Guacamole</th>\n",
       "      <td>[798, 798, 798, 1517, 1517, 1517]</td>\n",
       "    </tr>\n",
       "    <tr>\n",
       "      <th>...</th>\n",
       "      <td>...</td>\n",
       "    </tr>\n",
       "    <tr>\n",
       "      <th>Veggie Salad Bowl, Chips and Guacamole</th>\n",
       "      <td>[536, 536, 1677, 1677]</td>\n",
       "    </tr>\n",
       "    <tr>\n",
       "      <th>Veggie Salad Bowl, Steak Burrito</th>\n",
       "      <td>[1700, 1700]</td>\n",
       "    </tr>\n",
       "    <tr>\n",
       "      <th>Veggie Salad, Steak Burrito, Bottled Water</th>\n",
       "      <td>[1192, 1192, 1192]</td>\n",
       "    </tr>\n",
       "    <tr>\n",
       "      <th>Veggie Salad, Veggie Burrito</th>\n",
       "      <td>[1263, 1263]</td>\n",
       "    </tr>\n",
       "    <tr>\n",
       "      <th>Veggie Soft Tacos, Chips and Tomatillo Green Chili Salsa, Canned Soft Drink</th>\n",
       "      <td>[322, 322, 322]</td>\n",
       "    </tr>\n",
       "  </tbody>\n",
       "</table>\n",
       "<p>866 rows × 1 columns</p>\n",
       "</div>"
      ],
      "text/plain": [
       "                                                                                order_id\n",
       "items                                                                                   \n",
       "6 Pack Soft Drink, Carnitas Bowl                                    [566, 566, 774, 774]\n",
       "6 Pack Soft Drink, Chicken Bowl                                               [298, 298]\n",
       "6 Pack Soft Drink, Chicken Burrito, Chicken Sof...  [1454, 1454, 1454, 1454, 1454, 1454]\n",
       "6 Pack Soft Drink, Chicken Burrito, Chips and G...                    [1800, 1800, 1800]\n",
       "6 Pack Soft Drink, Chicken Salad Bowl, Chips an...     [798, 798, 798, 1517, 1517, 1517]\n",
       "...                                                                                  ...\n",
       "Veggie Salad Bowl, Chips and Guacamole                            [536, 536, 1677, 1677]\n",
       "Veggie Salad Bowl, Steak Burrito                                            [1700, 1700]\n",
       "Veggie Salad, Steak Burrito, Bottled Water                            [1192, 1192, 1192]\n",
       "Veggie Salad, Veggie Burrito                                                [1263, 1263]\n",
       "Veggie Soft Tacos, Chips and Tomatillo Green Ch...                       [322, 322, 322]\n",
       "\n",
       "[866 rows x 1 columns]"
      ]
     },
     "execution_count": 16,
     "metadata": {},
     "output_type": "execute_result"
    }
   ],
   "source": [
    "dataframe['items'] = dataframe.groupby('order_id')['item_name'].transform(lambda x: ', '.join(x))\n",
    "dataframe.groupby('items').agg({'order_id': lambda x: list(x)})"
   ]
  },
  {
   "cell_type": "code",
   "execution_count": 17,
   "id": "c6943f38",
   "metadata": {},
   "outputs": [
    {
     "data": {
      "text/html": [
       "<div>\n",
       "<style scoped>\n",
       "    .dataframe tbody tr th:only-of-type {\n",
       "        vertical-align: middle;\n",
       "    }\n",
       "\n",
       "    .dataframe tbody tr th {\n",
       "        vertical-align: top;\n",
       "    }\n",
       "\n",
       "    .dataframe thead th {\n",
       "        text-align: right;\n",
       "    }\n",
       "</style>\n",
       "<table border=\"1\" class=\"dataframe\">\n",
       "  <thead>\n",
       "    <tr style=\"text-align: right;\">\n",
       "      <th></th>\n",
       "      <th>order_id</th>\n",
       "    </tr>\n",
       "    <tr>\n",
       "      <th>flavor</th>\n",
       "      <th></th>\n",
       "    </tr>\n",
       "  </thead>\n",
       "  <tbody>\n",
       "    <tr>\n",
       "      <th>Hot</th>\n",
       "      <td>[2, 17, 21, 21, 29, 29, 30, 30, 32, 38, 38, 67...</td>\n",
       "    </tr>\n",
       "    <tr>\n",
       "      <th>Medium</th>\n",
       "      <td>[8, 13, 14, 15, 23, 24, 31, 45, 45, 47, 50, 55...</td>\n",
       "    </tr>\n",
       "    <tr>\n",
       "      <th>Medium&amp;Hot</th>\n",
       "      <td>[12, 51, 51, 52, 72, 73, 89, 141, 186, 186, 18...</td>\n",
       "    </tr>\n",
       "    <tr>\n",
       "      <th>Mild</th>\n",
       "      <td>[3, 9, 25, 46, 73, 80, 84, 121, 131, 140, 145,...</td>\n",
       "    </tr>\n",
       "    <tr>\n",
       "      <th>Mild&amp;Hot</th>\n",
       "      <td>[76, 409, 436, 472, 492, 531, 539, 579, 624, 6...</td>\n",
       "    </tr>\n",
       "    <tr>\n",
       "      <th>Mild&amp;Medium</th>\n",
       "      <td>[16, 74, 119, 173, 178, 189, 276, 293, 311, 32...</td>\n",
       "    </tr>\n",
       "    <tr>\n",
       "      <th>Mild&amp;Medium&amp;Hot</th>\n",
       "      <td>[11, 22, 108, 321, 371, 447, 623, 663, 663, 67...</td>\n",
       "    </tr>\n",
       "  </tbody>\n",
       "</table>\n",
       "</div>"
      ],
      "text/plain": [
       "                                                          order_id\n",
       "flavor                                                            \n",
       "Hot              [2, 17, 21, 21, 29, 29, 30, 30, 32, 38, 38, 67...\n",
       "Medium           [8, 13, 14, 15, 23, 24, 31, 45, 45, 47, 50, 55...\n",
       "Medium&Hot       [12, 51, 51, 52, 72, 73, 89, 141, 186, 186, 18...\n",
       "Mild             [3, 9, 25, 46, 73, 80, 84, 121, 131, 140, 145,...\n",
       "Mild&Hot         [76, 409, 436, 472, 492, 531, 539, 579, 624, 6...\n",
       "Mild&Medium      [16, 74, 119, 173, 178, 189, 276, 293, 311, 32...\n",
       "Mild&Medium&Hot  [11, 22, 108, 321, 371, 447, 623, 663, 663, 67..."
      ]
     },
     "execution_count": 17,
     "metadata": {},
     "output_type": "execute_result"
    }
   ],
   "source": [
    "dataframe['flavor'] = None\n",
    "steaks = dataframe[dataframe['item_name'].str.contains('steak', case=False)]\n",
    "\n",
    "for name, regex_str in flavors.items():\n",
    "    dataframe.loc[dataframe['choice_description'].str.contains(regex_str, case=False, regex=True) == True, 'flavor'] = name\n",
    "dataframe.groupby('flavor').agg({'order_id': lambda x: list(x)})"
   ]
  },
  {
   "cell_type": "markdown",
   "id": "1a64282e",
   "metadata": {},
   "source": [
    "#### 12. Определить цену по каждой позиции в отдельности. "
   ]
  },
  {
   "cell_type": "code",
   "execution_count": 18,
   "id": "e35742bf",
   "metadata": {},
   "outputs": [
    {
     "data": {
      "text/html": [
       "<div>\n",
       "<style scoped>\n",
       "    .dataframe tbody tr th:only-of-type {\n",
       "        vertical-align: middle;\n",
       "    }\n",
       "\n",
       "    .dataframe tbody tr th {\n",
       "        vertical-align: top;\n",
       "    }\n",
       "\n",
       "    .dataframe thead tr th {\n",
       "        text-align: left;\n",
       "    }\n",
       "\n",
       "    .dataframe thead tr:last-of-type th {\n",
       "        text-align: right;\n",
       "    }\n",
       "</style>\n",
       "<table border=\"1\" class=\"dataframe\">\n",
       "  <thead>\n",
       "    <tr>\n",
       "      <th></th>\n",
       "      <th colspan=\"2\" halign=\"left\">one_item_price</th>\n",
       "    </tr>\n",
       "    <tr>\n",
       "      <th></th>\n",
       "      <th>prices</th>\n",
       "      <th>mean</th>\n",
       "    </tr>\n",
       "    <tr>\n",
       "      <th>item_name</th>\n",
       "      <th></th>\n",
       "      <th></th>\n",
       "    </tr>\n",
       "  </thead>\n",
       "  <tbody>\n",
       "    <tr>\n",
       "      <th>6 Pack Soft Drink</th>\n",
       "      <td>{6.49}</td>\n",
       "      <td>6.490000</td>\n",
       "    </tr>\n",
       "    <tr>\n",
       "      <th>Barbacoa Bowl</th>\n",
       "      <td>{8.99, 9.25, 8.69, 11.75, 11.48, 11.49}</td>\n",
       "      <td>10.187273</td>\n",
       "    </tr>\n",
       "    <tr>\n",
       "      <th>Barbacoa Burrito</th>\n",
       "      <td>{8.99, 9.25, 8.69, 11.75, 11.08, 11.48}</td>\n",
       "      <td>9.832418</td>\n",
       "    </tr>\n",
       "    <tr>\n",
       "      <th>Barbacoa Crispy Tacos</th>\n",
       "      <td>{11.48, 9.25, 8.99, 11.75}</td>\n",
       "      <td>10.087273</td>\n",
       "    </tr>\n",
       "    <tr>\n",
       "      <th>Barbacoa Salad Bowl</th>\n",
       "      <td>{9.39, 11.89}</td>\n",
       "      <td>10.640000</td>\n",
       "    </tr>\n",
       "    <tr>\n",
       "      <th>Barbacoa Soft Tacos</th>\n",
       "      <td>{8.99, 9.25, 11.75, 11.48}</td>\n",
       "      <td>10.018400</td>\n",
       "    </tr>\n",
       "    <tr>\n",
       "      <th>Bottled Water</th>\n",
       "      <td>{1.09, 1.5}</td>\n",
       "      <td>1.431667</td>\n",
       "    </tr>\n",
       "    <tr>\n",
       "      <th>Bowl</th>\n",
       "      <td>{7.4, 7.3999999999999995}</td>\n",
       "      <td>7.400000</td>\n",
       "    </tr>\n",
       "    <tr>\n",
       "      <th>Burrito</th>\n",
       "      <td>{7.4}</td>\n",
       "      <td>7.400000</td>\n",
       "    </tr>\n",
       "    <tr>\n",
       "      <th>Canned Soda</th>\n",
       "      <td>{1.09}</td>\n",
       "      <td>1.090000</td>\n",
       "    </tr>\n",
       "    <tr>\n",
       "      <th>Canned Soft Drink</th>\n",
       "      <td>{1.25}</td>\n",
       "      <td>1.250000</td>\n",
       "    </tr>\n",
       "    <tr>\n",
       "      <th>Carnitas Bowl</th>\n",
       "      <td>{8.99, 9.25, 11.75, 11.48, 11.08}</td>\n",
       "      <td>10.315588</td>\n",
       "    </tr>\n",
       "    <tr>\n",
       "      <th>Carnitas Burrito</th>\n",
       "      <td>{8.99, 9.25, 8.69, 11.75, 11.48, 11.08}</td>\n",
       "      <td>9.975932</td>\n",
       "    </tr>\n",
       "    <tr>\n",
       "      <th>Carnitas Crispy Tacos</th>\n",
       "      <td>{8.99, 9.25, 11.75}</td>\n",
       "      <td>9.852857</td>\n",
       "    </tr>\n",
       "    <tr>\n",
       "      <th>Carnitas Salad</th>\n",
       "      <td>{8.99}</td>\n",
       "      <td>8.990000</td>\n",
       "    </tr>\n",
       "    <tr>\n",
       "      <th>Carnitas Salad Bowl</th>\n",
       "      <td>{9.39, 11.89}</td>\n",
       "      <td>11.056667</td>\n",
       "    </tr>\n",
       "    <tr>\n",
       "      <th>Carnitas Soft Tacos</th>\n",
       "      <td>{8.99, 9.25, 11.75}</td>\n",
       "      <td>9.398500</td>\n",
       "    </tr>\n",
       "    <tr>\n",
       "      <th>Chicken Bowl</th>\n",
       "      <td>{8.49, 8.75, 10.98, 11.25, 10.979999999999999,...</td>\n",
       "      <td>9.657727</td>\n",
       "    </tr>\n",
       "    <tr>\n",
       "      <th>Chicken Burrito</th>\n",
       "      <td>{8.49, 8.75, 10.98, 11.25, 10.58, 8.19}</td>\n",
       "      <td>9.475949</td>\n",
       "    </tr>\n",
       "    <tr>\n",
       "      <th>Chicken Crispy Tacos</th>\n",
       "      <td>{8.75, 8.49, 10.98, 11.25}</td>\n",
       "      <td>9.492340</td>\n",
       "    </tr>\n",
       "    <tr>\n",
       "      <th>Chicken Salad</th>\n",
       "      <td>{8.49, 8.19, 10.98}</td>\n",
       "      <td>9.010000</td>\n",
       "    </tr>\n",
       "    <tr>\n",
       "      <th>Chicken Salad Bowl</th>\n",
       "      <td>{8.75, 11.25}</td>\n",
       "      <td>9.909091</td>\n",
       "    </tr>\n",
       "    <tr>\n",
       "      <th>Chicken Soft Tacos</th>\n",
       "      <td>{8.75, 8.49, 10.98, 11.25}</td>\n",
       "      <td>9.240261</td>\n",
       "    </tr>\n",
       "    <tr>\n",
       "      <th>Chips</th>\n",
       "      <td>{1.99, 2.15}</td>\n",
       "      <td>2.149242</td>\n",
       "    </tr>\n",
       "    <tr>\n",
       "      <th>Chips and Fresh Tomato Salsa</th>\n",
       "      <td>{2.39, 2.95, 2.29}</td>\n",
       "      <td>2.748727</td>\n",
       "    </tr>\n",
       "    <tr>\n",
       "      <th>Chips and Guacamole</th>\n",
       "      <td>{3.89, 4.25, 3.99, 4.45, 4.0}</td>\n",
       "      <td>4.345616</td>\n",
       "    </tr>\n",
       "    <tr>\n",
       "      <th>Chips and Mild Fresh Tomato Salsa</th>\n",
       "      <td>{3.0}</td>\n",
       "      <td>3.000000</td>\n",
       "    </tr>\n",
       "    <tr>\n",
       "      <th>Chips and Roasted Chili Corn Salsa</th>\n",
       "      <td>{2.95}</td>\n",
       "      <td>2.950000</td>\n",
       "    </tr>\n",
       "    <tr>\n",
       "      <th>Chips and Roasted Chili-Corn Salsa</th>\n",
       "      <td>{2.39}</td>\n",
       "      <td>2.390000</td>\n",
       "    </tr>\n",
       "    <tr>\n",
       "      <th>Chips and Tomatillo Green Chili Salsa</th>\n",
       "      <td>{2.95}</td>\n",
       "      <td>2.950000</td>\n",
       "    </tr>\n",
       "    <tr>\n",
       "      <th>Chips and Tomatillo Red Chili Salsa</th>\n",
       "      <td>{2.95}</td>\n",
       "      <td>2.950000</td>\n",
       "    </tr>\n",
       "    <tr>\n",
       "      <th>Chips and Tomatillo-Green Chili Salsa</th>\n",
       "      <td>{2.39}</td>\n",
       "      <td>2.390000</td>\n",
       "    </tr>\n",
       "    <tr>\n",
       "      <th>Chips and Tomatillo-Red Chili Salsa</th>\n",
       "      <td>{2.39}</td>\n",
       "      <td>2.390000</td>\n",
       "    </tr>\n",
       "    <tr>\n",
       "      <th>Crispy Tacos</th>\n",
       "      <td>{7.4}</td>\n",
       "      <td>7.400000</td>\n",
       "    </tr>\n",
       "    <tr>\n",
       "      <th>Izze</th>\n",
       "      <td>{3.39}</td>\n",
       "      <td>3.390000</td>\n",
       "    </tr>\n",
       "    <tr>\n",
       "      <th>Nantucket Nectar</th>\n",
       "      <td>{3.39}</td>\n",
       "      <td>3.390000</td>\n",
       "    </tr>\n",
       "    <tr>\n",
       "      <th>Salad</th>\n",
       "      <td>{7.4}</td>\n",
       "      <td>7.400000</td>\n",
       "    </tr>\n",
       "    <tr>\n",
       "      <th>Side of Chips</th>\n",
       "      <td>{1.69, 1.6900000000000002}</td>\n",
       "      <td>1.690000</td>\n",
       "    </tr>\n",
       "    <tr>\n",
       "      <th>Steak Bowl</th>\n",
       "      <td>{8.99, 9.25, 8.69, 11.48, 11.75, 11.08}</td>\n",
       "      <td>10.232559</td>\n",
       "    </tr>\n",
       "    <tr>\n",
       "      <th>Steak Burrito</th>\n",
       "      <td>{8.99, 9.25, 8.69, 11.75, 11.48, 11.08}</td>\n",
       "      <td>9.993424</td>\n",
       "    </tr>\n",
       "    <tr>\n",
       "      <th>Steak Crispy Tacos</th>\n",
       "      <td>{8.99, 9.25, 8.69, 11.75}</td>\n",
       "      <td>9.952857</td>\n",
       "    </tr>\n",
       "    <tr>\n",
       "      <th>Steak Salad</th>\n",
       "      <td>{8.99, 8.69}</td>\n",
       "      <td>8.915000</td>\n",
       "    </tr>\n",
       "    <tr>\n",
       "      <th>Steak Salad Bowl</th>\n",
       "      <td>{9.39, 11.89}</td>\n",
       "      <td>11.027931</td>\n",
       "    </tr>\n",
       "    <tr>\n",
       "      <th>Steak Soft Tacos</th>\n",
       "      <td>{8.99, 9.25, 11.75, 11.48}</td>\n",
       "      <td>9.578182</td>\n",
       "    </tr>\n",
       "    <tr>\n",
       "      <th>Veggie Bowl</th>\n",
       "      <td>{8.49, 8.75, 10.98, 11.25}</td>\n",
       "      <td>10.011882</td>\n",
       "    </tr>\n",
       "    <tr>\n",
       "      <th>Veggie Burrito</th>\n",
       "      <td>{8.49, 8.75, 10.98, 11.25}</td>\n",
       "      <td>9.602842</td>\n",
       "    </tr>\n",
       "    <tr>\n",
       "      <th>Veggie Crispy Tacos</th>\n",
       "      <td>{8.49}</td>\n",
       "      <td>8.490000</td>\n",
       "    </tr>\n",
       "    <tr>\n",
       "      <th>Veggie Salad</th>\n",
       "      <td>{8.49}</td>\n",
       "      <td>8.490000</td>\n",
       "    </tr>\n",
       "    <tr>\n",
       "      <th>Veggie Salad Bowl</th>\n",
       "      <td>{8.75, 11.25}</td>\n",
       "      <td>10.138889</td>\n",
       "    </tr>\n",
       "    <tr>\n",
       "      <th>Veggie Soft Tacos</th>\n",
       "      <td>{8.75, 8.49, 11.25}</td>\n",
       "      <td>9.352857</td>\n",
       "    </tr>\n",
       "  </tbody>\n",
       "</table>\n",
       "</div>"
      ],
      "text/plain": [
       "                                                                          one_item_price  \\\n",
       "                                                                                  prices   \n",
       "item_name                                                                                  \n",
       "6 Pack Soft Drink                                                                 {6.49}   \n",
       "Barbacoa Bowl                                    {8.99, 9.25, 8.69, 11.75, 11.48, 11.49}   \n",
       "Barbacoa Burrito                                 {8.99, 9.25, 8.69, 11.75, 11.08, 11.48}   \n",
       "Barbacoa Crispy Tacos                                         {11.48, 9.25, 8.99, 11.75}   \n",
       "Barbacoa Salad Bowl                                                        {9.39, 11.89}   \n",
       "Barbacoa Soft Tacos                                           {8.99, 9.25, 11.75, 11.48}   \n",
       "Bottled Water                                                                {1.09, 1.5}   \n",
       "Bowl                                                           {7.4, 7.3999999999999995}   \n",
       "Burrito                                                                            {7.4}   \n",
       "Canned Soda                                                                       {1.09}   \n",
       "Canned Soft Drink                                                                 {1.25}   \n",
       "Carnitas Bowl                                          {8.99, 9.25, 11.75, 11.48, 11.08}   \n",
       "Carnitas Burrito                                 {8.99, 9.25, 8.69, 11.75, 11.48, 11.08}   \n",
       "Carnitas Crispy Tacos                                                {8.99, 9.25, 11.75}   \n",
       "Carnitas Salad                                                                    {8.99}   \n",
       "Carnitas Salad Bowl                                                        {9.39, 11.89}   \n",
       "Carnitas Soft Tacos                                                  {8.99, 9.25, 11.75}   \n",
       "Chicken Bowl                           {8.49, 8.75, 10.98, 11.25, 10.979999999999999,...   \n",
       "Chicken Burrito                                  {8.49, 8.75, 10.98, 11.25, 10.58, 8.19}   \n",
       "Chicken Crispy Tacos                                          {8.75, 8.49, 10.98, 11.25}   \n",
       "Chicken Salad                                                        {8.49, 8.19, 10.98}   \n",
       "Chicken Salad Bowl                                                         {8.75, 11.25}   \n",
       "Chicken Soft Tacos                                            {8.75, 8.49, 10.98, 11.25}   \n",
       "Chips                                                                       {1.99, 2.15}   \n",
       "Chips and Fresh Tomato Salsa                                          {2.39, 2.95, 2.29}   \n",
       "Chips and Guacamole                                        {3.89, 4.25, 3.99, 4.45, 4.0}   \n",
       "Chips and Mild Fresh Tomato Salsa                                                  {3.0}   \n",
       "Chips and Roasted Chili Corn Salsa                                                {2.95}   \n",
       "Chips and Roasted Chili-Corn Salsa                                                {2.39}   \n",
       "Chips and Tomatillo Green Chili Salsa                                             {2.95}   \n",
       "Chips and Tomatillo Red Chili Salsa                                               {2.95}   \n",
       "Chips and Tomatillo-Green Chili Salsa                                             {2.39}   \n",
       "Chips and Tomatillo-Red Chili Salsa                                               {2.39}   \n",
       "Crispy Tacos                                                                       {7.4}   \n",
       "Izze                                                                              {3.39}   \n",
       "Nantucket Nectar                                                                  {3.39}   \n",
       "Salad                                                                              {7.4}   \n",
       "Side of Chips                                                 {1.69, 1.6900000000000002}   \n",
       "Steak Bowl                                       {8.99, 9.25, 8.69, 11.48, 11.75, 11.08}   \n",
       "Steak Burrito                                    {8.99, 9.25, 8.69, 11.75, 11.48, 11.08}   \n",
       "Steak Crispy Tacos                                             {8.99, 9.25, 8.69, 11.75}   \n",
       "Steak Salad                                                                 {8.99, 8.69}   \n",
       "Steak Salad Bowl                                                           {9.39, 11.89}   \n",
       "Steak Soft Tacos                                              {8.99, 9.25, 11.75, 11.48}   \n",
       "Veggie Bowl                                                   {8.49, 8.75, 10.98, 11.25}   \n",
       "Veggie Burrito                                                {8.49, 8.75, 10.98, 11.25}   \n",
       "Veggie Crispy Tacos                                                               {8.49}   \n",
       "Veggie Salad                                                                      {8.49}   \n",
       "Veggie Salad Bowl                                                          {8.75, 11.25}   \n",
       "Veggie Soft Tacos                                                    {8.75, 8.49, 11.25}   \n",
       "\n",
       "                                                  \n",
       "                                            mean  \n",
       "item_name                                         \n",
       "6 Pack Soft Drink                       6.490000  \n",
       "Barbacoa Bowl                          10.187273  \n",
       "Barbacoa Burrito                        9.832418  \n",
       "Barbacoa Crispy Tacos                  10.087273  \n",
       "Barbacoa Salad Bowl                    10.640000  \n",
       "Barbacoa Soft Tacos                    10.018400  \n",
       "Bottled Water                           1.431667  \n",
       "Bowl                                    7.400000  \n",
       "Burrito                                 7.400000  \n",
       "Canned Soda                             1.090000  \n",
       "Canned Soft Drink                       1.250000  \n",
       "Carnitas Bowl                          10.315588  \n",
       "Carnitas Burrito                        9.975932  \n",
       "Carnitas Crispy Tacos                   9.852857  \n",
       "Carnitas Salad                          8.990000  \n",
       "Carnitas Salad Bowl                    11.056667  \n",
       "Carnitas Soft Tacos                     9.398500  \n",
       "Chicken Bowl                            9.657727  \n",
       "Chicken Burrito                         9.475949  \n",
       "Chicken Crispy Tacos                    9.492340  \n",
       "Chicken Salad                           9.010000  \n",
       "Chicken Salad Bowl                      9.909091  \n",
       "Chicken Soft Tacos                      9.240261  \n",
       "Chips                                   2.149242  \n",
       "Chips and Fresh Tomato Salsa            2.748727  \n",
       "Chips and Guacamole                     4.345616  \n",
       "Chips and Mild Fresh Tomato Salsa       3.000000  \n",
       "Chips and Roasted Chili Corn Salsa      2.950000  \n",
       "Chips and Roasted Chili-Corn Salsa      2.390000  \n",
       "Chips and Tomatillo Green Chili Salsa   2.950000  \n",
       "Chips and Tomatillo Red Chili Salsa     2.950000  \n",
       "Chips and Tomatillo-Green Chili Salsa   2.390000  \n",
       "Chips and Tomatillo-Red Chili Salsa     2.390000  \n",
       "Crispy Tacos                            7.400000  \n",
       "Izze                                    3.390000  \n",
       "Nantucket Nectar                        3.390000  \n",
       "Salad                                   7.400000  \n",
       "Side of Chips                           1.690000  \n",
       "Steak Bowl                             10.232559  \n",
       "Steak Burrito                           9.993424  \n",
       "Steak Crispy Tacos                      9.952857  \n",
       "Steak Salad                             8.915000  \n",
       "Steak Salad Bowl                       11.027931  \n",
       "Steak Soft Tacos                        9.578182  \n",
       "Veggie Bowl                            10.011882  \n",
       "Veggie Burrito                          9.602842  \n",
       "Veggie Crispy Tacos                     8.490000  \n",
       "Veggie Salad                            8.490000  \n",
       "Veggie Salad Bowl                      10.138889  \n",
       "Veggie Soft Tacos                       9.352857  "
      ]
     },
     "execution_count": 18,
     "metadata": {},
     "output_type": "execute_result"
    }
   ],
   "source": [
    "dataframe['one_item_price'] = dataframe['item_price'] / dataframe['quantity']\n",
    "dataframe.groupby('item_name').agg({'one_item_price': [pd.NamedAgg('prices', lambda x: set(x)), 'mean']})"
   ]
  },
  {
   "cell_type": "markdown",
   "id": "cf725ec6",
   "metadata": {},
   "source": [
    "### Алгоритмы уменьшения размерности \n",
    "\n",
    "#### повторить эксперименты в главе 5.1 Qalitative Comparison of Multiple Algorithms статьи статьи UMAP: Uniform Manifold\n",
    "#### [Approximation and Projection for Dimension Reduction](https://arxiv.org/pdf/1802.03426.pdf)\n",
    "\n",
    "#### необходимо воспроизвести все графики данной главы, соотнести выводы из статьи с вашими результатами."
   ]
  },
  {
   "cell_type": "code",
   "execution_count": null,
   "id": "0e3ac869",
   "metadata": {},
   "outputs": [],
   "source": []
  }
 ],
 "metadata": {
  "kernelspec": {
   "display_name": "Python 3 (ipykernel)",
   "language": "python",
   "name": "python3"
  },
  "language_info": {
   "codemirror_mode": {
    "name": "ipython",
    "version": 3
   },
   "file_extension": ".py",
   "mimetype": "text/x-python",
   "name": "python",
   "nbconvert_exporter": "python",
   "pygments_lexer": "ipython3",
   "version": "3.9.6"
  }
 },
 "nbformat": 4,
 "nbformat_minor": 5
}
